{
 "cells": [
  {
   "cell_type": "code",
   "execution_count": 2,
   "metadata": {},
   "outputs": [],
   "source": [
    "import os\n",
    "import pandas as pd\n",
    "\n",
    "# Prepare dataset function\n",
    "def prepare_dataset(base_dir):\n",
    "    records = []\n",
    "    for disease_name in os.listdir(base_dir):\n",
    "        disease_dir = os.path.join(base_dir, disease_name)\n",
    "        if os.path.isdir(disease_dir):\n",
    "            for body_part in os.listdir(disease_dir):\n",
    "                body_part_dir = os.path.join(disease_dir, body_part)\n",
    "                if os.path.isdir(body_part_dir):\n",
    "                    for image_name in os.listdir(body_part_dir):\n",
    "                        image_path = os.path.join(body_part_dir, image_name)\n",
    "                        if os.path.isfile(image_path):\n",
    "                            records.append([disease_name, body_part, image_path])\n",
    "    df = pd.DataFrame(records, columns=['disease_name', 'body_part', 'image_path'])\n",
    "    return df\n",
    "\n",
    "def combine_dataset():\n",
    "    # Load your dataset into a DataFrame\n",
    "    base_dir = '../data-collection/dataset/disease-classification'\n",
    "    \n",
    "    # Load the disease classification DataFrame\n",
    "    classification_df = pd.read_csv('../data-collection/dataset/disease_classification.csv')\n",
    "    classification_df.columns = ['disease_name', 'condition']\n",
    "\n",
    "    # Load the dataset\n",
    "    df = prepare_dataset(base_dir)\n",
    "\n",
    "    # Merge the datasets to add the 'condition' column\n",
    "    df = df.merge(classification_df, on='disease_name', how='left')\n",
    "\n",
    "    return df\n",
    "\n",
    "final_df = combine_dataset()\n",
    "final_df.to_csv('../data-collection/dataset/skin_disease_dataset.csv', index=False) "
   ]
  }
 ],
 "metadata": {
  "kernelspec": {
   "display_name": "tensorflow_gpu",
   "language": "python",
   "name": "python3"
  },
  "language_info": {
   "codemirror_mode": {
    "name": "ipython",
    "version": 3
   },
   "file_extension": ".py",
   "mimetype": "text/x-python",
   "name": "python",
   "nbconvert_exporter": "python",
   "pygments_lexer": "ipython3",
   "version": "3.9.19"
  }
 },
 "nbformat": 4,
 "nbformat_minor": 2
}
