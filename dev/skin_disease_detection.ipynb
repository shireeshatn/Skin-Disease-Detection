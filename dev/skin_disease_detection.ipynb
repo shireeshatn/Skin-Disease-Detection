{
 "cells": [
  {
   "cell_type": "code",
   "execution_count": null,
   "metadata": {},
   "outputs": [],
   "source": [
    "import pandas as pd\n",
    "import numpy as np\n",
    "import matplotlib.pyplot as plt\n",
    "from sklearn.model_selection import train_test_split\n",
    "from sklearn.utils import resample\n",
    "from sklearn.metrics import classification_report\n",
    "from tensorflow.keras.preprocessing.image import ImageDataGenerator\n",
    "from tensorflow.keras.applications import PNASNetLarge, InceptionResNetV2, DenseNet201, InceptionV3\n",
    "from tensorflow.keras.layers import Concatenate, Input, GlobalAveragePooling2D, Dense\n",
    "from tensorflow.keras.models import Model\n",
    "from tensorflow.keras.optimizers import Adam"
   ]
  },
  {
   "cell_type": "code",
   "execution_count": null,
   "metadata": {},
   "outputs": [],
   "source": [
    "# Load your dataset into a DataFrame (assuming you already have it loaded)\n",
    "df = pd.read_csv('../data-collection/dataset/skin_disease_dataset.csv')"
   ]
  },
  {
   "cell_type": "code",
   "execution_count": null,
   "metadata": {},
   "outputs": [],
   "source": [
    "# Check class imbalance\n",
    "class_counts = df['disease_name'].value_counts()\n",
    "total_instances = len(df)\n",
    "class_proportions = class_counts / total_instances"
   ]
  },
  {
   "cell_type": "code",
   "execution_count": null,
   "metadata": {},
   "outputs": [],
   "source": [
    "# Plot class distribution\n",
    "plt.figure(figsize=(10, 6))\n",
    "class_counts.plot(kind='bar', color='skyblue')\n",
    "plt.title('Class Distribution of Skin Diseases')\n",
    "plt.xlabel('Disease Name')\n",
    "plt.ylabel('Number of Instances')\n",
    "plt.xticks(rotation=45)\n",
    "plt.show()"
   ]
  },
  {
   "cell_type": "code",
   "execution_count": null,
   "metadata": {},
   "outputs": [],
   "source": [
    "# Balance the classes\n",
    "majority_class = class_counts.idxmax()\n",
    "resampled_dfs = []\n",
    "for disease_name, count in class_counts.items():\n",
    "    if disease_name != majority_class:\n",
    "        df_minority = df[df['disease_name'] == disease_name]\n",
    "        df_resampled = resample(df_minority, replace=True, n_samples=class_counts[majority_class], random_state=42)\n",
    "        resampled_dfs.append(df_resampled)\n",
    "df_balanced = pd.concat([df] + resampled_dfs)"
   ]
  },
  {
   "cell_type": "code",
   "execution_count": null,
   "metadata": {},
   "outputs": [],
   "source": [
    "# Data augmentation\n",
    "datagen = ImageDataGenerator(\n",
    "    rotation_range=20,\n",
    "    width_shift_range=0.2,\n",
    "    height_shift_range=0.2,\n",
    "    shear_range=0.2,\n",
    "    zoom_range=0.2,\n",
    "    horizontal_flip=True,\n",
    "    rescale=1./255\n",
    ")"
   ]
  },
  {
   "cell_type": "code",
   "execution_count": null,
   "metadata": {},
   "outputs": [],
   "source": [
    "# Create training and testing datasets\n",
    "X = df_balanced['image_path']\n",
    "y = df_balanced['disease_name']\n",
    "X_train, X_test, y_train, y_test = train_test_split(X, y, test_size=0.2, random_state=42)"
   ]
  },
  {
   "cell_type": "code",
   "execution_count": null,
   "metadata": {},
   "outputs": [],
   "source": [
    "# Define input shape\n",
    "ip_shape = (224, 224, 3)\n",
    "inputs = Input(shape=ip_shape)"
   ]
  },
  {
   "cell_type": "code",
   "execution_count": null,
   "metadata": {},
   "outputs": [],
   "source": [
    "# Load pre-trained models\n",
    "base_model1 = InceptionResNetV2(weights='imagenet', include_top=False, input_shape=ip_shape)\n",
    "base_model2 = DenseNet201(weights='imagenet', include_top=False, input_shape=ip_shape)\n",
    "base_model3 = InceptionV3(weights='imagenet', include_top=False, input_shape=ip_shape)"
   ]
  },
  {
   "cell_type": "code",
   "execution_count": null,
   "metadata": {},
   "outputs": [],
   "source": [
    "# Freeze base models\n",
    "base_model1.trainable = False\n",
    "base_model2.trainable = False\n",
    "base_model3.trainable = False"
   ]
  },
  {
   "cell_type": "code",
   "execution_count": null,
   "metadata": {},
   "outputs": [],
   "source": [
    "# Get output tensors from base models\n",
    "x1 = base_model1(inputs)\n",
    "x2 = base_model2(inputs)\n",
    "x3 = base_model3(inputs)"
   ]
  },
  {
   "cell_type": "code",
   "execution_count": null,
   "metadata": {},
   "outputs": [],
   "source": [
    "# Global average pooling for each base model output\n",
    "x1 = GlobalAveragePooling2D()(x1)\n",
    "x2 = GlobalAveragePooling2D()(x2)\n",
    "x3 = GlobalAveragePooling2D()(x3)"
   ]
  },
  {
   "cell_type": "code",
   "execution_count": null,
   "metadata": {},
   "outputs": [],
   "source": [
    "# Concatenate the outputs\n",
    "x = Concatenate()([x1, x2, x3])"
   ]
  },
  {
   "cell_type": "code",
   "execution_count": null,
   "metadata": {},
   "outputs": [],
   "source": [
    "# Final classification layers\n",
    "outputs = Dense(len(set(y_train)), activation='softmax')(x)"
   ]
  },
  {
   "cell_type": "code",
   "execution_count": null,
   "metadata": {},
   "outputs": [],
   "source": [
    "# Create the ensemble model\n",
    "model = Model(inputs=inputs, outputs=outputs)"
   ]
  },
  {
   "cell_type": "code",
   "execution_count": null,
   "metadata": {},
   "outputs": [],
   "source": [
    "# Compile the model\n",
    "model.compile(optimizer='adam', loss='categorical_crossentropy', metrics=['accuracy'])"
   ]
  },
  {
   "cell_type": "code",
   "execution_count": null,
   "metadata": {},
   "outputs": [],
   "source": [
    "# Print model summary\n",
    "model.summary()"
   ]
  },
  {
   "cell_type": "code",
   "execution_count": null,
   "metadata": {},
   "outputs": [],
   "source": [
    "# Train the model\n",
    "history = model.fit(datagen.flow_from_dataframe(dataframe=df_balanced, x_col='image_path', y_col='disease_name',\n",
    "                                                target_size=(224, 224), batch_size=32, class_mode='categorical'),\n",
    "                    steps_per_epoch=len(X_train) // 32, epochs=20)"
   ]
  },
  {
   "cell_type": "code",
   "execution_count": null,
   "metadata": {},
   "outputs": [],
   "source": [
    "# Evaluate the model\n",
    "y_pred = model.predict(datagen.flow_from_dataframe(dataframe=df_balanced, x_col='image_path', y_col='disease_name',\n",
    "                                                    target_size=(224, 224), batch_size=32, class_mode='categorical'))\n",
    "y_pred_classes = np.argmax(y_pred, axis=1)\n",
    "print(classification_report(y_test, y_pred_classes))"
   ]
  },
  {
   "cell_type": "code",
   "execution_count": null,
   "metadata": {},
   "outputs": [],
   "source": [
    "# Save the model\n",
    "model.save('skin_disease_detection_model.h5')"
   ]
  }
 ],
 "metadata": {
  "kernelspec": {
   "display_name": "CSCN8010_classic_ml",
   "language": "python",
   "name": "python3"
  },
  "language_info": {
   "codemirror_mode": {
    "name": "ipython",
    "version": 3
   },
   "file_extension": ".py",
   "mimetype": "text/x-python",
   "name": "python",
   "nbconvert_exporter": "python",
   "pygments_lexer": "ipython3",
   "version": "3.9.19"
  }
 },
 "nbformat": 4,
 "nbformat_minor": 2
}
